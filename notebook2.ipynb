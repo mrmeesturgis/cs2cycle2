{
 "cells": [
  {
   "cell_type": "markdown",
   "id": "d8bba665",
   "metadata": {
    "deletable": false,
    "editable": false
   },
   "source": [
    "<img src=\"https://www.sturgischarterschool.com/wp-content/uploads/2019/06/sturgisheader_logo.png\" alt=\"sturgis\" width=\"250\" align=\"right\"/>\n",
    "\n",
    "## Computer Science 'Random Phrase Generator' notebook 2\n",
    "### Sturgis Charter Public School \n",
    "\n"
   ]
  },
  {
   "cell_type": "markdown",
   "id": "681696fb",
   "metadata": {},
   "source": [
    "Student: [your name here]\n",
    "\n",
    "Collaborators: [N/A]\n",
    "\n",
    "Notes to the teacher: [N/A]"
   ]
  },
  {
   "cell_type": "code",
   "execution_count": null,
   "id": "3650b01b",
   "metadata": {},
   "outputs": [],
   "source": [
    "#be sure to run this Cell!\n",
    "import csv"
   ]
  },
  {
   "cell_type": "markdown",
   "id": "16bf0839",
   "metadata": {
    "deletable": false,
    "editable": false
   },
   "source": [
    "### Learning Objectives for notebook \n",
    "* List Methods\n",
    "* Debugging\n",
    "* Implement a Dictionary\n",
    "* Build a Class\n",
    "* **HL** Abstract Data Types: Linked list "
   ]
  },
  {
   "cell_type": "markdown",
   "id": "2bf13423",
   "metadata": {
    "deletable": false,
    "editable": false
   },
   "source": [
    "### Narrative\n",
    "\n",
    "When using a data type it's helpful to understand what you can do to manipulate that data type. What methods are available to us. This is true for types such as [string](https://www.w3schools.com/python/python_ref_string.asp), [tuple](https://www.w3schools.com/python/python_ref_tuple.asp), [dict](https://www.w3schools.com/python/python_ref_dictionary.asp), and [list](https://www.w3schools.com/python/python_ref_list.asp). We're going to focus on list this week. They are listed below. \n",
    "\n",
    "##### Method\tDescription\n",
    "* append()\tAdds an element at the end of the list\n",
    "* clear()\tRemoves all the elements from the list\n",
    "* copy()\tReturns a copy of the list\n",
    "* count()\tReturns the number of elements with the specified value\n",
    "* extend()\tAdd the elements of a list (or any iterable), to the end of the current list\n",
    "* index()\tReturns the index of the first element with the specified value\n",
    "* insert()\tAdds an element at the specified position\n",
    "* pop()\tRemoves the element at the specified position\n",
    "* remove()\tRemoves the first item with the specified value\n",
    "* reverse()\tReverses the order of the list\n",
    "* sort()\tSorts the list\n",
    "\n",
    "#### Debugging\n",
    "\n",
    "Finally, what do you do when your program isn't working? There are many tools that can be used to debug. First be aware that when Python throws an error at you, it's going to give you some knowledge of where that error is coming from. It often will point to a line, and then indicate what type of error you are receiving. Jupyter notebook does have a more robust debugger tool, but it requires some additional installs. For the time being we're going to use some more manual techniques. Note that jupyter notebooks can enable or disable view on the line numbers. Under `view` there is an option which says `Toggle Line Numbers` which in my notebook has a hotkey of `shift-L`\n",
    "\n",
    "#### Dictionaries\n",
    "\n",
    "Then we will implement a dictionary. A dictionary is a [hashable](https://medium.com/@faith.chikwekwe/how-dictionaries-work-in-python-162c6386c2cf#:~:text=The%20dictionary%20uses%20each%20key%27s,exactly%20which%20bucket%20to%20search.) data type, which has huge implications for computational efficiency. Let's remind ourselves how they work. \n",
    "\n",
    "Every dictionary has a key and a value. The key is how we find the value. Dictionaries are demarcated with `{}`. So we might build a dictionary like the following. \n",
    "\n",
    "> `mydictionary = {'key': value}`\n",
    "\n",
    "We could also add to a dictionary simply by building a new key. This is done in the following way. \n",
    "\n",
    "> `mydictionary['newkey'] = value`\n",
    "\n",
    "One thing that's important and very valuable is that the value can be any data type. The key should be a string.\n",
    "\n",
    "#### Class \n",
    "\n",
    "As we discussed last week, the heart of object oriented programming (OOP) is the use of classes. They are activated with the keyword class. \n",
    "\n",
    "`class Example:\n",
    "    def __init__(self):\n",
    "        #functions that happen upon the initial call of the class\n",
    "        privariable = 0 #This is an example of a private variable\n",
    "        self.pubvariable = 0 #This is an example of a public variable. It can be accessed from outside. \n",
    "    def classfunction(self):\n",
    "        return #this is optional. You can also have a function modify a public variable from within the class.`\n",
    "        \n",
    "#### *HL* Abstract Data Types\n",
    "\n",
    "Building on our understanding of classes, we are going to create a class called Node. We are then going to build that in order to create a linked list, which is an example of an abstract data structure. Other common abstract data structures are stacks or queues. But we'll look at that in greater detail below. "
   ]
  },
  {
   "cell_type": "markdown",
   "id": "a0d56d1b",
   "metadata": {
    "deletable": false,
    "editable": false
   },
   "source": [
    "#### Question 1 \n",
    "Alright, let's turn our attention to lists. I'm going to show you a couple of methods, and then it will be your job to use some of the other methods to pass the assert checks. "
   ]
  },
  {
   "cell_type": "code",
   "execution_count": null,
   "id": "bf26ed00",
   "metadata": {},
   "outputs": [],
   "source": [
    "#Use this list for the following assert checks.\n",
    "lvtemplate = ['cup', 'water', 'fridge', 'table', 'class', 'book', 'computer', 'chair', 'car', 'wash', 'slip', 'hug', 'power', 'change', 'shampoo', 'cat', 'basket', 'rabbid', 'old', 'fast', 'zipper', 'blizzard', 'snap']\n",
    "lv = lvtemplate\n",
    "# let's imagine that I want to remove the third element. \n",
    "popped = lv.pop(3)\n",
    "print(popped, lv, '\\n')\n",
    "\n",
    "# let's imagine that I want to insert that now as the 11th element.\n",
    "lv.insert(10, popped)\n",
    "print(lv, '\\n')\n",
    "\n",
    "# let's imagine that I want to sort the list alphabetically.\n",
    "lv.sort()\n",
    "print(lv, '\\n')\n",
    "\n",
    "# let's imagine that I want to sort it in reverse\n",
    "lv.sort(reverse = True)\n",
    "print(lv, '\\n')"
   ]
  },
  {
   "cell_type": "code",
   "execution_count": null,
   "id": "4445ba66",
   "metadata": {},
   "outputs": [],
   "source": [
    "lv = lvtemplate\n",
    "#Your turn, modify the list in order to pass the following assert checks"
   ]
  },
  {
   "cell_type": "code",
   "execution_count": null,
   "id": "9e39ba1d",
   "metadata": {
    "deletable": false,
    "editable": false
   },
   "outputs": [],
   "source": [
    "assert lv[9] == 'hug'"
   ]
  },
  {
   "cell_type": "code",
   "execution_count": null,
   "id": "bef0a705",
   "metadata": {},
   "outputs": [],
   "source": [
    "lv = lvtemplate\n",
    "#it might be helpful to reset the list."
   ]
  },
  {
   "cell_type": "code",
   "execution_count": null,
   "id": "e124279f",
   "metadata": {
    "deletable": false,
    "editable": false
   },
   "outputs": [],
   "source": [
    "assert len(lv) == 0"
   ]
  },
  {
   "cell_type": "code",
   "execution_count": null,
   "id": "9a31ab53",
   "metadata": {},
   "outputs": [],
   "source": [
    "lv = lvtemplate\n",
    "#it might be helpful to reset the list."
   ]
  },
  {
   "cell_type": "code",
   "execution_count": null,
   "id": "9fe8dc10",
   "metadata": {
    "deletable": false,
    "editable": false
   },
   "outputs": [],
   "source": [
    "for word in lv:\n",
    "    assert word[0] != c"
   ]
  },
  {
   "cell_type": "markdown",
   "id": "d4a68558",
   "metadata": {
    "deletable": false,
    "editable": false
   },
   "source": [
    "#### Question 2\n",
    "Now let's look at debugging. Let's imagine that we have two lists that we think should match, but for some reason they don't. What can we do to figure out what's going on?"
   ]
  },
  {
   "cell_type": "code",
   "execution_count": null,
   "id": "d9da75b9",
   "metadata": {},
   "outputs": [],
   "source": [
    "list1 = ['cup', 'water', 'fridge', 'table', 'class', 'book', 'computer', 'chair', 'car', 'wash', 'slip', 'hug', 'power', 'change', 'shampoo', 'cat', 'basket', 'rabbid', 'old', 'fast', 'zipper', 'blizzard', 'snap']\n",
    "list2 = ['cup', 'water', 'fridge', 'table', 'class', 'book', 'computer', 'chair', 'car', 'wash', 'slip', 'hug', 'power', 'change', 'shampoo', 'cat', 'basket', 'rabbid', 'old', 'fast', 'zipper', 'blizzard', 'snap'],\n",
    "if list1 == list2:\n",
    "    print(\"list1 and list2 match\")"
   ]
  },
  {
   "cell_type": "code",
   "execution_count": null,
   "id": "92a8b5ca",
   "metadata": {},
   "outputs": [],
   "source": [
    "#let's take a look at two main things. Type, and length. \n",
    "print('list1: ', len(list1), type(list1))\n",
    "print('list2: ', len(list2), type(list2))\n",
    "#Now that's odd! We can literally see list 2 and there's like 23 items right there. What's up with that?!\n",
    "#Of course, the other thing is that it's somehow not a list. How'd that happen?\n",
    "#print(list2)\n",
    "#Do you see what happened?"
   ]
  },
  {
   "cell_type": "code",
   "execution_count": null,
   "id": "f83be2cf",
   "metadata": {},
   "outputs": [],
   "source": [
    "#hint there is no value difference between '' and \"\".\n",
    "list3 = [1, \"5\", \"fourteen\", 81.761, (\"hello\", 5), ['cup', 'water', 'Fridge', 'table', 'class', 'computer', ['chair'], 'car', 'wash', 'book', 'slip', 'hug', 'power']]\n",
    "list4 = ['water', 'wash', 'table', 'slip', 'power', 'hug', 'hello', 'fourteen', 'cup', 'computer', 'class', 'chair', 'car', 'book', 'Fridge', '81.761', '5', '5', '1']"
   ]
  },
  {
   "cell_type": "code",
   "execution_count": null,
   "id": "b500da83",
   "metadata": {
    "deletable": false,
    "editable": false
   },
   "outputs": [],
   "source": [
    "#modify list 3 and list 4 so that they are the same. You may not overwrite the list or say `list3 = list4`.\n",
    "#If you can't get the lists to match, then you may write out comments of all the differences between the two lists.\n",
    "assert list3 == list4"
   ]
  },
  {
   "cell_type": "markdown",
   "id": "c4646ee9",
   "metadata": {},
   "source": [
    "#### Question 3\n",
    "Now let's turn our attention to dictionaries. Let's imagine that we want to take a list and transform it into a dictionary. Each word from the list will become a key, and the value will be the numerical pairing for that word. I'm going to build the list for you, and you are going to transform it into a dictionary. "
   ]
  },
  {
   "cell_type": "code",
   "execution_count": null,
   "id": "50a43768",
   "metadata": {
    "deletable": false,
    "editable": false
   },
   "outputs": [],
   "source": [
    "#Let's load some dummy data\n",
    "with open('MOCK_DATA.csv', newline='') as csvfile:\n",
    "    ddata = csv.reader(csvfile, delimiter=',')\n",
    "    data = []\n",
    "    for row in ddata:\n",
    "        data.append(row)\n",
    "        \n",
    "#Now let's just take a look at the first ten lines\n",
    "for line in data[:10]:\n",
    "    print(line)"
   ]
  },
  {
   "cell_type": "code",
   "execution_count": null,
   "id": "65234376",
   "metadata": {},
   "outputs": [],
   "source": [
    "# Modify this data so that it is in a dictionary format. Name your dictionary pbdict. \n",
    "pbdict = {}"
   ]
  },
  {
   "cell_type": "code",
   "execution_count": null,
   "id": "c4c15bae",
   "metadata": {
    "deletable": false,
    "editable": false
   },
   "outputs": [],
   "source": [
    "assert len(pbdict.keys()) == 100\n",
    "assert 'Marigold' in pbdict.keys()\n",
    "assert pbdict['Roscoe'] == '203260827-8'\n",
    "assert '210309656-8' not in pbdict.keys()"
   ]
  },
  {
   "cell_type": "markdown",
   "id": "de54154e",
   "metadata": {},
   "source": [
    "#### Question 4\n",
    "\n",
    "Let's look at classes now. I want you to create a class called `Library`. It should do a few things. It should have three public variables: `borrower` `titles` `balance`. It should also have three methods. One which checks the book out to a user `in_out`, and another that assesses fees for overdue titles `fees`. Fees are assessed on a weekly basis $4.99 per week. Finally there is a function that allows users to make a `payment` Use the MOCK_DATA2 for building this class. "
   ]
  },
  {
   "cell_type": "code",
   "execution_count": null,
   "id": "1b499d55",
   "metadata": {},
   "outputs": [],
   "source": [
    "#Let's load some dummy data\n",
    "with open('MOCK_DATA2.csv', newline='') as csvfile:\n",
    "    ddata = csv.reader(csvfile, delimiter=',')\n",
    "    borrowers = []\n",
    "    titles = []\n",
    "    for row in ddata:\n",
    "        borrowers.append(row[1])\n",
    "        titles.append((row[2], row[3]))\n",
    "        \n",
    "#Now let's just take a look at the first ten lines\n",
    "print(titles[57], titles[5])"
   ]
  },
  {
   "cell_type": "code",
   "execution_count": null,
   "id": "50ba8f73",
   "metadata": {},
   "outputs": [],
   "source": [
    "class Library:\n",
    "    def __init__(self, borrower):\n",
    "        raise NotImplementedError\n",
    "    \n",
    "    def in_out(self, title): #accepts a tuple where the 0th element is the isbn and the 1st is the title\n",
    "        raise NotImplementedError\n",
    "    \n",
    "    def fees(self, int):\n",
    "        raise NotImplementedError\n",
    "    \n",
    "    def payment(self, float):\n",
    "        raise NotImplementedError"
   ]
  },
  {
   "cell_type": "code",
   "execution_count": null,
   "id": "12b90921",
   "metadata": {
    "deletable": false,
    "editable": false
   },
   "outputs": [],
   "source": [
    "josie = Library('josie')\n",
    "\n",
    "assert type(josie) == Library\n",
    "\n",
    "assert josie.borrower == 'josie'\n",
    "\n",
    "assert len(josie.titles) == 0\n",
    "\n",
    "josie.in_out(titles[5])\n",
    "\n",
    "assert josie.titles[0][1] == 'Last Night'\n",
    "\n",
    "josie.in_out(titles[57])\n",
    "\n",
    "assert josie.titles[1][0] == '927810450-7'\n",
    "\n",
    "josie.in_out(titles[5])\n",
    "\n",
    "assert len(josie.titles) == 1\n",
    "\n",
    "josie.fees(2) #It's two weeks overdue\n",
    "\n",
    "assert josie.balance == 9.98\n",
    "\n",
    "josie.payment(3.37) #josie makes a payment\n",
    "\n",
    "assert josie.balance == 6.61\n"
   ]
  },
  {
   "cell_type": "markdown",
   "id": "1ad1550b",
   "metadata": {},
   "source": [
    "#### Question 5\n",
    "\n",
    "The following question is a short response question. Reference the image to answer the following questions. \n",
    "![image](Rodriguez.png)\n",
    "\n",
    "##### 5.1: Define the term concurrent processing\n",
    "[your answer]\n",
    "##### 5.2: Identify two tasks that are carried out sequentially\n",
    "[your answer]\n",
    "##### 5.3: Describe how the idea of abstraction applies to one of the tasks.\n",
    "[your answer]\n",
    "##### 5.4: Explain one advantage and one disadvantage of carrying out a number of tasks concurrently.\n",
    "[your answer]"
   ]
  },
  {
   "cell_type": "markdown",
   "id": "b23b18e5",
   "metadata": {},
   "source": [
    "#### *HL* Question 6 \n",
    "###### Abstract Data Types\n",
    "\n",
    "Read [the chapter on linked lists](Python_chp25_linkedlists.pdf)\n",
    "\n",
    "Do a little extra online research if you have to. \n",
    "\n",
    "##### 6.1: Explain Recursion (1-2 Sentences)\n",
    "[your answer]\n",
    "##### 6.2 Finish the implementation of the Linkedlist and Node class so that it passes the assert checks.\n",
    "\n",
    "##### Warning: this is quite tricky! Don't wait until the last minute to do this. Feel free to discuss with your peers our teachers, but make sure you do your own coding. "
   ]
  },
  {
   "cell_type": "code",
   "execution_count": 10,
   "id": "a85fa9a2",
   "metadata": {
    "deletable": false,
    "editable": false
   },
   "outputs": [],
   "source": [
    "#This is done for you.\n",
    "class Node:\n",
    "    def __init__(self, cargo = None, step=None):\n",
    "        self.cargo = cargo\n",
    "        self.next = step\n",
    "        \n",
    "    def __str__(self):\n",
    "        return str(self.cargo)\n",
    "    \n",
    "nodes = [Node(i) for i in range(0,10)] # let's build ten nodes\n",
    "\n",
    "#This demonstrates nodes linked, but it is NOT importatnt to the linked list. \n",
    "\n",
    "for i, node in enumerate(nodes):\n",
    "    if i < len(nodes) - 1: #Because the last node is left unlinked with None\n",
    "        node.next = nodes[i+1]"
   ]
  },
  {
   "cell_type": "code",
   "execution_count": 14,
   "id": "6c163279",
   "metadata": {},
   "outputs": [],
   "source": [
    "#Finally let's wrap these nodes in a class called Linkedlist\n",
    "\n",
    "\n",
    "class Linkedlist:\n",
    "    \n",
    "    def __init__(self):\n",
    "        self.length = 0 \n",
    "        self.head = None \n",
    "        \n",
    "    def add_first(self, cargo):\n",
    "        raise NotimplementedError\n",
    "        #Your code here\n",
    "        \n",
    "    def rev_order(self, head, trail):\n",
    "        raise NotImplementedError\n",
    "        #Your code here\n",
    "        \n",
    "    def print_forward(self, head): #This is built, no need to change. Note you have to give it the head.\n",
    "        if head != None:\n",
    "            print(\"step\", head)\n",
    "            self.print_forward(head.next)\n",
    "        else:\n",
    "            print(None)\n",
    "\n",
    "\n"
   ]
  },
  {
   "cell_type": "code",
   "execution_count": 40,
   "id": "ea9c8b25",
   "metadata": {
    "deletable": false,
    "editable": false
   },
   "outputs": [],
   "source": [
    "#Let's instantiate the class. \n",
    "link = Linkedlist()\n",
    "\n",
    "#It starts out empty. Let's build some nodes.\n",
    "for i in range(0,10):\n",
    "    link.add_first(i)\n",
    "\n",
    "#Now for the assert checks.\n",
    "assert link.length == 10\n",
    "assert type(link.head) == Node\n",
    "assert link.head.cargo == 9\n",
    "assert link.head.next.next.cargo == 7\n",
    "link.rev_order(link.head, None)\n",
    "assert link.head.cargo == 0\n",
    "assert link.head.next.next.next.next.cargo == 4"
   ]
  }
 ],
 "metadata": {
  "celltoolbar": "Edit Metadata",
  "kernelspec": {
   "display_name": "Python 3 (ipykernel)",
   "language": "python",
   "name": "python3"
  },
  "language_info": {
   "codemirror_mode": {
    "name": "ipython",
    "version": 3
   },
   "file_extension": ".py",
   "mimetype": "text/x-python",
   "name": "python",
   "nbconvert_exporter": "python",
   "pygments_lexer": "ipython3",
   "version": "3.9.7"
  }
 },
 "nbformat": 4,
 "nbformat_minor": 5
}
